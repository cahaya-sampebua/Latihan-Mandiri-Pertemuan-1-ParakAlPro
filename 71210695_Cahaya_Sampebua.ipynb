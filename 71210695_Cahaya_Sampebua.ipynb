{
  "nbformat": 4,
  "nbformat_minor": 0,
  "metadata": {
    "colab": {
      "provenance": []
    },
    "kernelspec": {
      "name": "python3",
      "display_name": "Python 3"
    },
    "language_info": {
      "name": "python"
    }
  },
  "cells": [
    {
      "cell_type": "code",
      "source": [
        "#Soal 1\n",
        "\n",
        "%matplotlib inline\n",
        "import matplotlib.pyplot as plt\n",
        "import numpy as np\n",
        "\n",
        "x = np.linspace(0, 10)\n",
        "y = np.sin(x)\n",
        "z = np.cos(x)\n",
        "\n",
        "plt.plot(x, y, 'b', label='Sin')\n",
        "plt.plot(x, z, 'r', label='Cos')\n",
        "\n",
        "plt.xlabel('Radians')\n",
        "plt.ylabel('Value')\n",
        "plt.title('Plotting Demonstration')\n",
        "plt.legend()\n",
        "plt.grid()\n",
        "\n",
        "plt.show()"
      ],
      "metadata": {
        "id": "_8fNN-Fh4lNp"
      },
      "execution_count": null,
      "outputs": []
    },
    {
      "cell_type": "code",
      "source": [
        "#Soal 2\n",
        "\n",
        "# Pertama, hitung keuntungan dari pembelian emas seberat 25 gram dengan harga Rp. 650.000/gram\n",
        "berat_emas_g = 25\n",
        "harga_emas_g = 650000\n",
        "total_awal = berat_emas_g * harga_emas_g\n",
        "harga_emas_g = 685000\n",
        "total_akhir = berat_emas_g * harga_emas_g\n",
        "keuntungan = total_akhir - total_awal\n",
        "keuntungan_persen = keuntungan / total_awal * 100\n",
        "\n",
        "print(\"Keuntungan dalam rupiah:\", keuntungan)\n",
        "print(\"Keuntungan dalam persen:\", keuntungan_persen, (\"%\"))\n",
        "\n",
        "print(\"=====================================================\")\n",
        "\n",
        "# Kemudian, hitung keuntungan dari pembelian tambahan emas seberat 15 gram dengan harga Rp. 685.000/gram\n",
        "# Total emas yang dimiliki sekarang adalah 25 gram + 15 gram = 40 gram\n",
        "total_awal = 25 * 650000\n",
        "total_awal += 15 * 685000\n",
        "total_akhir = 40 * 715000\n",
        "keuntungan = total_akhir - total_awal\n",
        "print(\"Keuntungan: \", keuntungan)\n",
        "\n",
        "keuntungan_persen = (keuntungan / total_awal) * 100\n",
        "print(\"Keuntungan dalam persen: \", keuntungan_persen, (\"%\"))"
      ],
      "metadata": {
        "id": "4ekxGo515b-b"
      },
      "execution_count": null,
      "outputs": []
    },
    {
      "cell_type": "code",
      "source": [
        "#Soal 3\n",
        "\n",
        "# Di sini saya akan menggunakan Python REPL (Read-Eval-Print Loop)\n",
        "# Inisialisasi variabel\n",
        "uang_awal = 200_000_000  # Uang awal Erika (200 juta rupiah)\n",
        "target_uang = 400_000_000  # Target uang (400 juta rupiah)\n",
        "bunga_per_tahun = 0.1  # Bunga 10% per tahun\n",
        "tahun = 0  # Tahun ke-0\n",
        "\n",
        "# Loop untuk menghitung total uang setiap tahunnya\n",
        "while uang_awal < target_uang:\n",
        "    tahun += 1\n",
        "    uang_awal += uang_awal * bunga_per_tahun  # Menambahkan bunga ke uang awal\n",
        "    print(f\"Tahun ke-{tahun}: Total uang = {uang_awal:.2f} rupiah\")\n",
        "\n",
        "# Menampilkan jumlah tahun yang dibutuhkan\n",
        "print(f\"Dibutuhkan waktu {tahun} tahun untuk mencapai minimal 400 juta rupiah.\")"
      ],
      "metadata": {
        "id": "aZkyiDBt5oZ4"
      },
      "execution_count": null,
      "outputs": []
    }
  ]
}